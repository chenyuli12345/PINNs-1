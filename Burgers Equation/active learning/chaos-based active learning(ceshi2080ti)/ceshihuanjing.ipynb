{
 "cells": [
  {
   "cell_type": "code",
   "execution_count": 1,
   "metadata": {},
   "outputs": [
    {
     "name": "stdout",
     "output_type": "stream",
     "text": [
      "Python版本: 3.10.13 (main, Sep 11 2023, 13:44:35) [GCC 11.2.0]\n",
      "PyTorch版本: 2.2.1\n",
      "CUDA可用: True\n",
      "CUDA版本: 12.1\n",
      "cuDNN版本: 8902\n",
      "当前CUDA设备名称: NVIDIA GeForce RTX 2080 Ti\n"
     ]
    }
   ],
   "source": [
    "import torch\n",
    "import sys\n",
    "\n",
    "print(\"Python版本:\", sys.version)\n",
    "print(\"PyTorch版本:\", torch.__version__)\n",
    "print(\"CUDA可用:\", torch.cuda.is_available())\n",
    "\n",
    "if torch.cuda.is_available():\n",
    "    print(\"CUDA版本:\", torch.version.cuda)\n",
    "    print(\"cuDNN版本:\", torch.backends.cudnn.version())\n",
    "\n",
    "    # 显示当前CUDA设备信息\n",
    "    cuda_device = torch.device('cuda')\n",
    "    print(\"当前CUDA设备名称:\", torch.cuda.get_device_name(cuda_device))\n",
    "else:\n",
    "    print(\"CUDA不可用，无法显示CUDA和cuDNN版本。\")"
   ]
  }
 ],
 "metadata": {
  "kernelspec": {
   "display_name": "pytorchgpu",
   "language": "python",
   "name": "python3"
  },
  "language_info": {
   "codemirror_mode": {
    "name": "ipython",
    "version": 3
   },
   "file_extension": ".py",
   "mimetype": "text/x-python",
   "name": "python",
   "nbconvert_exporter": "python",
   "pygments_lexer": "ipython3",
   "version": "3.10.13"
  }
 },
 "nbformat": 4,
 "nbformat_minor": 2
}
