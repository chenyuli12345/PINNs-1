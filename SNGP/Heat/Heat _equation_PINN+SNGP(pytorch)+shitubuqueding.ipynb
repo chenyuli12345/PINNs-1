{
 "cells": [
  {
   "cell_type": "markdown",
   "metadata": {},
   "source": [
    "# Attribute\n",
    "\n",
    "**Original Work**: *Maziar Raissi, Paris Perdikaris, and George Em Karniadakis*\n",
    "\n",
    "**Github Repo** : https://github.com/maziarraissi/PINNs\n",
    "\n",
    "**Link:** https://github.com/maziarraissi/PINNs/tree/master/appendix/continuous_time_identification%20(Burgers)\n",
    "\n",
    "@article{raissi2017physicsI,\n",
    "  title={Physics Informed Deep Learning (Part I): Data-driven Solutions of Nonlinear Partial Differential Equations},\n",
    "  author={Raissi, Maziar and Perdikaris, Paris and Karniadakis, George Em},\n",
    "  journal={arXiv preprint arXiv:1711.10561},\n",
    "  year={2017}\n",
    "}\n",
    "\n",
    "@article{raissi2017physicsII,\n",
    "  title={Physics Informed Deep Learning (Part II): Data-driven Discovery of Nonlinear Partial Differential Equations},\n",
    "  author={Raissi, Maziar and Perdikaris, Paris and Karniadakis, George Em},\n",
    "  journal={arXiv preprint arXiv:1711.10566},\n",
    "  year={2017}\n",
    "}"
   ]
  },
  {
   "cell_type": "markdown",
   "metadata": {},
   "source": [
    "## Libraries and Dependencies"
   ]
  },
  {
   "cell_type": "code",
   "execution_count": 1,
   "metadata": {},
   "outputs": [],
   "source": [
    "import torch\n",
    "#collections是python一个内置模块，提供了一些有用的数据结构\n",
    "from collections import OrderedDict  #这个类是字典dict的一个子类，用于创建有序的字典。普通字典中元素顺序是无序的，在OrderedDict中元素的顺序是有序的，元素的顺序是按照它们被添加到字典中的顺序决定的。\n",
    "\n",
    "import numpy as np\n",
    "import matplotlib.pyplot as plt\n",
    "#下面的`scipy`是一个用于科学计算和技术计算的Python库，提供了许多高级的数学函数和便利的操作，包括数值积分、插值、优化、图像处理、统计等。\n",
    "import scipy.io #导入了scipy库中的io模块。scipy.io模块包含了一些用于文件输入/输出的函数，例如读取和写入.mat文件（MATLAB格式）。\n",
    "from scipy.interpolate import griddata #`scipy.interpolate`是`scipy`库中的一个模块，提供了许多插值工具，用于在给定的离散数据点之间进行插值和拟合。`griddata`是这个模块中的一个函数，用于在无规则的数据点上进行插值。\n",
    "from pyDOE import lhs #`pyDOE`是一个Python库，用于设计实验。它提供了一些函数来生成各种设计，如因子设计、拉丁超立方设计等。`lhs`是库中的一个函数，全名为\"Latin Hypercube Sampling\"，拉丁超立方采样。这是一种统计方法，用于生成一个近似均匀分布的多维样本点集。它在参数空间中生成一个非常均匀的样本，这对于高维数值优化问题非常有用，因为它可以更好地覆盖参数空间。\n",
    "from mpl_toolkits.mplot3d import Axes3D #`mpl_toolkits.mplot3d`是`matplotlib`库的一个模块，用于创建三维图形。`Axes3D`是`mpl_toolkits.mplot3d`模块中的一个类，用于创建一个三维的坐标轴。可以在这个坐标轴上绘制三维的图形，如曲线、曲面等。\n",
    "import time #一个内置模块，用于处理时间相关的操作。\n",
    "import matplotlib.gridspec as gridspec #是`matplotlib`库的一个模块，用于创建一个网格布局来放置子图。在`matplotlib`中可以创建一个或多个子图（subplot），每个子图都有自己的坐标轴，并可以在其中绘制图形。`gridspec`模块提供了一个灵活的方式来创建和放置子图。\n",
    "from mpl_toolkits.axes_grid1 import make_axes_locatable #`mpl_toolkits.axes_grid1`是`matplotlib`库的一个模块，提供了一些高级的工具来控制matplotlib图形中的坐标轴和颜色条。`make_axes_locatable`是模块中的一个函数，用于创建一个可分割的坐标轴。可以在这个坐标轴的四个方向（上、下、左、右）添加新的坐标轴或颜色条。\n",
    "\n",
    "import math\n",
    "import pandas as pd #pandas用于处理结构化数据\n",
    "from scipy.io import savemat #导入sys模块。sys模块提供了一些变量和函数，用于与 Python解释器进行交互和访问。例如，sys.path 是一个 Python 在导入模块时会查找的路径列表，sys.argv 是一个包含命令行参数的列表，sys.exit() 函数可以用于退出 Python 程序。导入 sys 模块后，你就可以在你的程序中使用这些变量和函数了。\n",
    "\n",
    "import torch\n",
    "#collections是python一个内置模块，提供了一些有用的数据结构\n",
    "from collections import OrderedDict  #这个类是字典dict的一个子类，用于创建有序的字典。普通字典中元素顺序是无序的，在OrderedDict中元素的顺序是有序的，元素的顺序是按照它们被添加到字典中的顺序决定的。\n",
    "\n",
    "import skopt #用于优化问题的库，特别是机器学习中的超参数优化\n",
    "from distutils.version import LooseVersion #distutils是Python的一个标准库，用于构建和安装Python包。LooseVersion是一个类，用于比较版本号\n",
    "\n",
    "import random\n",
    "\n",
    "from tqdm import tqdm #一个快速，可扩展的python进度条库，可以在python长循环中添加一个进度提示信息，用户只需要封装任意的迭代器tqdm(iterator)。\n",
    "\n",
    "\n",
    "\n",
    "\n",
    "# torch.cuda.set_device(1) #设置当前使用的GPU设备。这里设置为1号GPU设备（第二块显卡）。"
   ]
  },
  {
   "cell_type": "code",
   "execution_count": 2,
   "metadata": {},
   "outputs": [],
   "source": [
    "# CUDA support \n",
    "\n",
    "#设置pytorch的设备，代表了在哪里执行张量积算，设备可以是cpu或者cuda（gpu），并将这个做运算的设备对象存储在变量device中，后续张量计算回在这个设备上执行\n",
    "if torch.cuda.is_available():\n",
    "    device = torch.device('cuda')\n",
    "else:\n",
    "    device = torch.device('cpu')"
   ]
  },
  {
   "cell_type": "markdown",
   "metadata": {},
   "source": [
    "## Physics-informed Neural Networks"
   ]
  },
  {
   "cell_type": "code",
   "execution_count": 3,
   "metadata": {},
   "outputs": [],
   "source": [
    "#神经网络：layers代表一个正常的神经网络，在输出层和隐藏层之间插入一个高斯过程层\n",
    "\n",
    "# the deep neural network\n",
    "class DNN(torch.nn.Module):\n",
    "    #第一个方法\n",
    "    def __init__(self, layers,gamma,num_of_GP): #初始化函数，layers是一个列表，表示每一层的神经元个数，gamma是GP的参数，num_of_GP是GP的参数\n",
    "        super(DNN, self).__init__() #调用父类的__init__方法进行初始化\n",
    "        \n",
    "        # parameters\n",
    "        self.depth = len(layers) - 1 #定义名为depth的属性，表示神经网络的深度，等于层数-1\n",
    "        self.num_of_GP = num_of_GP #定义名为num_of_GP的属性，表示GP的参数\n",
    "        self.gamma = gamma #定义名为gamma的属性，表示GP的参数\n",
    "        \n",
    "        # set up layer order dict\n",
    "        self.activation = torch.nn.Tanh #设置激活函数为tanh\n",
    "         \n",
    "        layer_list = list() #定义一个空列表layer_list\n",
    "        for i in range(self.depth - 1):  #循环depth次\n",
    "            #将每一层（全连接层）添加到layer_list中\n",
    "            layer_list.append(\n",
    "                ('layer_%d' % i, torch.nn.Linear(layers[i], layers[i+1]))\n",
    "            )\n",
    "            #将每一层的激活函数添加到layer_list中\n",
    "            layer_list.append(('activation_%d' % i, self.activation()))\n",
    "\n",
    "        #循环结束后，将最后一层的线性变换添加到layer_list中（因为没有激活函数了）\n",
    "        layer_list.append(\n",
    "            ('layer_%d' % (self.depth - 1), torch.nn.Linear(self.num_of_GP, layers[-1], bias=False))\n",
    "        )\n",
    "        #然后使用OrderedDict将layer_list中的元素转换为有序字典\n",
    "        layerDict = OrderedDict(layer_list)\n",
    "        \n",
    "        # deploy layers，将layerDict转换为一个神经网络模型，赋值给self.layers\n",
    "        self.layers = torch.nn.Sequential(layerDict)\n",
    "    \n",
    "\n",
    "        # Initialize weights\n",
    "        self._initialize_weights()  \n",
    "\n",
    "        # # Initialize beta for the output layer\n",
    "        # self.beta = torch.nn.Parameter(torch.randn(layers[-1], 1))  # 初始化回归权重矩阵beta\n",
    "\n",
    "        # Initialize GP_W and GP_b\n",
    "        self.GP_W = torch.randn(layers[-2], self.num_of_GP) * math.sqrt(2 * self.gamma)  # 初始化GP_W\n",
    "        self.GP_b = torch.rand(1, self.num_of_GP) * 2 * math.pi  # 初始化GP_b\n",
    "\n",
    "    def _initialize_weights(self):\n",
    "        for idx, m in enumerate(self.layers): #遍历神经网络模型的每一层，获取每一层的索引idx和层对象m(注意这里idx会包括激活函数，也占一个idx)\n",
    "            if isinstance(m, torch.nn.Linear): #判断层对象m是否是全连接层\n",
    "\n",
    "                # 自定义初始化函数\n",
    "                fan_in = m.weight.size(0)  # 输入单元数量\n",
    "                fan_out = m.weight.size(1)  # 输出单元数量\n",
    "                std = (2 / (fan_in + fan_out)) ** 0.5  # 计算标准差\n",
    "                \n",
    "                with torch.no_grad():\n",
    "                    m.weight.normal_(0, std)  # 使用自定义标准差初始化权重\n",
    "                if m.bias is not None: #若存在偏置\n",
    "                    torch.nn.init.zeros_(m.bias) #使用常数初始化方法初始化偏置，初始化为0\n",
    "                \n",
    "                # 归一化权重\n",
    "                if idx > 0 and idx < len(self.layers) - 2: #不归一化输入层、输出层和最后一个隐藏层\n",
    "                #注意这里其实idx包含了激活函数，例如对于[1,50,50,50,50,1]，这里共有6层，但是idx应该是9，因为四个隐藏层+四个激活函数+输出层。所以因为idx0是全连接层，最后一个idx为输出层，因此这样做是可以剔除第一个权重和最后一个权重的\n",
    "                    with torch.no_grad(): #确保归一化过程中不进行梯度计算\n",
    "                        norm = m.weight.norm(2) #计算该层权重的二范数\n",
    "                        if norm > 0.99: #若二范数大于0.99\n",
    "                            m.weight.mul_(0.99 / norm) #将权重乘以0.99/norm，使得二范数等于0.99\n",
    "    \n",
    "    #第二个方法，前向传播\n",
    "    def forward(self, X, lb, ub):  # 接收输入x\n",
    "        device = X.device  # 获取输入张量的设备\n",
    "        self.GP_W = self.GP_W.to(device)  # 将GP_W移动到相同设备\n",
    "        self.GP_b = self.GP_b.to(device)  # 将GP_b移动到相同设备\n",
    "        H = 2.0*(X - lb)/(ub - lb) - 1.0 #这里H是X经过归一化处理后的结果，将X映射到了[-1,1]区间内\n",
    "        #第一层\n",
    "        H = self.layers[0](H)\n",
    "        H = self.layers[1](H)\n",
    "\n",
    "        # 中间隐藏层\n",
    "        for i in range(2, len(self.layers) - 2, 2):  # 循环遍历中间隐藏层\n",
    "            with torch.no_grad():\n",
    "                norm = self.layers[i].weight.norm(2)\n",
    "                if norm > 0.99:\n",
    "                    self.layers[i].weight.mul_(0.99 / norm)\n",
    "            # H = self.layers[i+1](self.layers[i](H))\n",
    "            H_1 = self.layers[i+1](self.layers[i](H))  # 计算输出并加上偏置(i+1是激活函数，i是全连接层)\n",
    "            # H = H + H_1  # 加上前一层的输出构成本层新的输出\n",
    "            # H = H.clone() + H_1\n",
    "\n",
    "        # 在最后一个隐藏层和输出层之间添加一层\n",
    "        H1 = torch.matmul(H, self.GP_W) + self.GP_b  # 计算H1\n",
    "        Fai = math.sqrt(2 / self.num_of_GP) * torch.cos(H1)  # 计算Fai\n",
    "        H = Fai  # 更新H为Fai\n",
    "\n",
    "        # 输出层\n",
    "        out = self.layers[-1](H)  # 计算输出\n",
    "        return out  # 返回输出out\n",
    "    \n",
    "    #第三个方法，获取hidden输出\n",
    "    def dnn_for_hidden_features(self, X, lb, ub):  # 接收输入x\n",
    "        H = 2.0*(X - lb)/(ub - lb) - 1.0 #这里H是X经过归一化处理后的结果，将X映射到了[-1,1]区间内\n",
    "        #第一层\n",
    "        H = self.layers[0](H)\n",
    "        H = self.layers[1](H)\n",
    "\n",
    "        # 中间隐藏层\n",
    "        for i in range(2, len(self.layers) - 2, 2):  # 循环遍历中间隐藏层\n",
    "            with torch.no_grad():\n",
    "                norm = self.layers[i].weight.norm(2)\n",
    "                if norm > 0.99:\n",
    "                    self.layers[i].weight.mul_(0.99 / norm)\n",
    "            # H = self.layers[i+1](self.layers[i](H))\n",
    "            H_1 = self.layers[i+1](self.layers[i](H))  # 计算输出并加上偏置(i+1是激活函数，i是全连接层)\n",
    "            # H = H + H_1  # 加上前一层的输出构成本层新的输出\n",
    "            # H = H.clone() + H_1 # 加上前一层的输出构成本层新的输出\n",
    "\n",
    "        # 在最后一个隐藏层和输出层之间添加一层\n",
    "        H1 = torch.matmul(H, self.GP_W) + self.GP_b  # 计算H1\n",
    "        Fai = math.sqrt(2 / self.num_of_GP) * torch.cos(H1)  # 计算Fai\n",
    "\n",
    "        return H, Fai  # 返回输出out\n",
    "    \n",
    "    "
   ]
  },
  {
   "cell_type": "code",
   "execution_count": 4,
   "metadata": {},
   "outputs": [],
   "source": [
    "# the physics-guided neural network\n",
    "class PhysicsInformedNN():\n",
    "    # Initialize the class\n",
    "    def __init__(self,x0, u0, tb, X_f, layers, lb, ub, gamma, num_of_GP): #这个类包含的第一个方法__init__，这是一个特殊的方法，也就是这个类的构造函数，用于初始化新创建的对象，接受了几个参数\n",
    "    \n",
    "        self.gamma = gamma\n",
    "        self.num_of_GP = num_of_GP\n",
    "\n",
    "\n",
    "        #`numpy.concatenate`是一个用于数组拼接的函数。它可以将多个数组沿指定的轴拼接在一起，形成一个新的数组：numpy.concatenate((a1,a2, ...), axis=0)其中，`a1,a2, ...`是需要拼接的数组（只能接受数组或序列类型的参数，且参数形状必须相同），可以是多个。`axis`参数用于指定拼接的轴向，`axis=0`表示沿着第一个轴（即行）进行拼接，不指定`axis`参数默认值是0。\n",
    "        X0 = np.concatenate((x0,0*x0), 1) # [x0, 0],将x0和0*x0两个数组在第二个维度（即列）上进行了合并。0*x0会生成一个与x0形状相同，但所有元素都为0的数组。因此，X0的结果是一个新的二维数组，其中第一列是x0的值，第二列全为0\n",
    "        X_lb = np.concatenate((0*tb+lb[0],tb), 1) # [lb[0], tb],将0*tb+lb[0]和tb两个数组在第二个维度（即列）上进行了合并。0*tb+lb[0]会生成一个与tb形状相同，但所有元素都为lb[0]的数组。因此，X_lb的结果是一个新的二维数组，其中第一列全为lb[0]的值，第二列是tb的值。\n",
    "        X_ub = np.concatenate((0*tb+ub[0],tb), 1) # [ub[0], tb],同上生成一个与tb形状相同，但所有元素都为ub[0]的数组。因此，X_ub的结果是一个新的二维数组，其中第一列全为ub[0]的值，第二列是tb的值\n",
    "        \n",
    "        #boundary conditions\n",
    "        #Python使用self关键字来表示类的实例。当在类的方法中定义一个变量时，例如lb和ub，这些变量只在该方法内部可见，也就是说它们的作用域仅限于该方法。当方法执行完毕后，这些变量就会被销毁，无法在其他方法中访问它们。但如果希望在类的其他方法中也能访问这些变量就需要将它们保存为类的实例属性。这就是self.lb和self.ub的作用。\n",
    "        #通过将lb和ub赋值给self.lb和self.ub，就可以在类的其他方法中通过self.lb和self.ub来访问这些值。总的来说，self.lb和self.ub是类的实例属性，它们的作用域是整个类，而不仅仅是定义它们的方法。\n",
    "        self.lb = torch.tensor(lb).float().to(device) #将传入的lb和ub参数的值存储在实例中，以便后续使用。这样可以在类的其他方法中通过self.lb和self.ub来访问这些值。\n",
    "        self.ub = torch.tensor(ub).float().to(device)        \n",
    "\n",
    "\n",
    "        self.x0 = torch.tensor(X0[:,0:1], requires_grad=True).float().to(device) #将X0的第一列赋值给self.x0（:表示取所有行,0：1实际上表示取第一列，因为python是左闭右开的）,将X0的第二列赋值给self.t0。这样可以在类的其他方法中通过self.x0和self.t0来访问这些值。\n",
    "        self.t0 = torch.tensor(X0[:,1:2], requires_grad=True).float().to(device) #将x0的第二列赋值给self.t0\n",
    "\n",
    "        self.x_lb = torch.tensor(X_lb[:,0:1], requires_grad=True).float().to(device) #将X_lb的第一列赋值给self.x_lb\n",
    "        self.t_lb = torch.tensor(X_lb[:,1:2], requires_grad=True).float().to(device) #将X_lb的第二列赋值给self.t_lb\n",
    "\n",
    "        self.x_ub = torch.tensor(X_ub[:,0:1], requires_grad=True).float().to(device) #将X_ub的第一列赋值给self.x_ub\n",
    "        self.t_ub = torch.tensor(X_ub[:,0:1], requires_grad=True).float().to(device) #将X_ub的第二列赋值给self.t_ub\n",
    "        \n",
    "        self.x_f = torch.tensor(X_f[:,0:1], requires_grad=True).float().to(device) #将X_f的第一列赋值给self.x_f\n",
    "        self.t_f = torch.tensor(X_f[:,1:2], requires_grad=True).float().to(device) #将X_f的第二列赋值给self.t_f\n",
    "        \n",
    "        self.u0 = torch.tensor(u0).float().to(device) #将传入的u0和v0参数的值存储在实例中，以便后续使用。这样可以在类的其他方法中通过self.u0和self.v0来访问这些值。        \n",
    "\n",
    "\n",
    "        \n",
    "        self.layers = layers\n",
    "        \n",
    "        # deep neural networks\n",
    "        self.dnn = DNN(layers,gamma,num_of_GP).to(device) #创建一个DNN类的实例，传入layers参数来实现神经网络的初始化，然后将这个实例移动到指定的设备上\n",
    "        \n",
    "        \n",
    "        # optimizers: using the same settings\n",
    "        #创建优化器optimizer，使用LBFGS算法，具体每个参数意义见下方\n",
    "        self.optimizer_LBFGS = torch.optim.LBFGS(\n",
    "            self.dnn.parameters(), #要优化的参数，这里返回的是一个生成器，包含了self.dnn中的所有参数（神经网络权重与偏置）\n",
    "            lr=1.0,  #学习率设置为1\n",
    "            max_iter=50000,  #最大迭代次数为50000\n",
    "            max_eval=50000,  #最大评估次数为50000\n",
    "            history_size=50, #历史大小为50，即用于计算Hessian矩阵近似的最近几步的信息\n",
    "            tolerance_grad=1e-5,  #优化的第一个停止条件，当梯度的L2范数小于1e-5时停止优化\n",
    "            tolerance_change=1.0 * np.finfo(float).eps, #优化的第二个停止条件，当优化的目标函数值的变化小于1.0 * np.finfo(float).eps时停止优化\n",
    "            line_search_fn=\"strong_wolfe\"       # 制定了用于一维搜索的方法，这里表示用强Wolfe条件\n",
    "        )\n",
    "\n",
    "        #创建第二个优化器，括号内为要优化的参数，使用Adam优化方法\n",
    "        self.optimizer_Adam = torch.optim.Adam(self.dnn.parameters())\n",
    "\n",
    "        self.iter = 0 #记录迭代次数 \n",
    "        \n",
    "    #定义了一个名为net_u的函数/方法，用于计算神经网络的输出。这个方法接受两个参数，分别是x和t，其中x是输入数据，t是时间数据。最后返回神经网络的输出。     \n",
    "    def net_u(self, x, t):  \n",
    "        u = self.dnn(torch.cat([x, t], dim=1),self.lb,self.ub)  #（第一个参数将输入的两个参数x和t在第二个维度（列）上进行拼接，形成一个新的张量）调用DNN，根据两个参数权重和偏置，以及新得到的张量，计算神经网络的输出u\n",
    "        return u\n",
    "\n",
    "    \n",
    "    #定义了一个名为net_f的函数/方法，用于计算论文中的f。这个方法接受两个参数，分别是x和t，其中x是输入数据，t是时间数据。最后返回计算得到的f。\n",
    "    def net_f(self, x, t):\n",
    "        \"\"\" The pytorch autograd version of calculating residual \"\"\"\n",
    "        u = self.net_u(x, t) #调用上面的net_u函数，计算神经网络的输出u\n",
    "        \n",
    "        #计算u关于t的梯度，也就是u关于t的导数，这里使用了pytorch的自动求导功能\n",
    "        u_t = torch.autograd.grad(\n",
    "            u, t,  #输入的张量，要计算u关于t的导数\n",
    "            grad_outputs=torch.ones_like(u), #生成一个与u形状相同，所有元素均为1的张量，这个参数用于指定向量-雅可比积的像两部分\n",
    "            retain_graph=True, #表示计算完梯度之后保留计算图若需要多次计算梯度，则需要设置改参数为True\n",
    "            create_graph=True #创建梯度的计算图，使我们能够计算高阶导数\n",
    "        )[0] #这个函数的返回值是一个元组，其中包含了每个输入张量的梯度。这里只关心第一个输入张量u的梯度，所以我们使用[0]来获取这个梯度。？？？？又说只有一个梯度\n",
    "        u_x = torch.autograd.grad(\n",
    "            u, x, \n",
    "            grad_outputs=torch.ones_like(u),\n",
    "            retain_graph=True,\n",
    "            create_graph=True\n",
    "        )[0]\n",
    "        u_xx = torch.autograd.grad(\n",
    "            u_x, x, \n",
    "            grad_outputs=torch.ones_like(u_x),\n",
    "            retain_graph=True,\n",
    "            create_graph=True\n",
    "        )[0]\n",
    "        \n",
    "        mu = 1/(1*np.pi**2)\n",
    "        f =-1*u_t + mu * u_xx #定义见论文\n",
    "\n",
    "        return f\n",
    "    # def net_f_u(self,x):\n",
    "    #     u = self.net_u(x) #调用上面的net_u函数，计算神经网络的输出u\n",
    "        \n",
    "    #     #计算u关于t的梯度，也就是u关于t的导数，这里使用了pytorch的自动求导功能\n",
    "    #     u_x = torch.autograd.grad(\n",
    "    #         u, x,  #输入的张量，要计算u关于t的导数\n",
    "    #         grad_outputs=torch.ones_like(u), #生成一个与u形状相同，所有元素均为1的张量，这个参数用于指定向量-雅可比积的像两部分\n",
    "    #         retain_graph=True, #表示计算完梯度之后保留计算图若需要多次计算梯度，则需要设置改参数为True\n",
    "    #         create_graph=True #创建梯度的计算图，使我们能够计算高阶导数\n",
    "    #     )[0] #这个函数的返回值是一个元组，其中包含了每个输入张量的梯度。这里只关心第一个输入张量u的梯度，所以我们使用[0]来获取这个梯度。？？？？又说只有一个梯度\n",
    "\n",
    "    #     PI = np.pi\n",
    "    #     u_xx = torch.autograd.grad(\n",
    "    #         u_x, x, \n",
    "    #         grad_outputs=torch.ones_like(u_x),\n",
    "    #         retain_graph=True,\n",
    "    #         create_graph=True\n",
    "    #     )[0]\n",
    "\n",
    "    #     fx = -1*PI**2*torch.sin(PI*x)-PI*torch.cos(PI*x)*(torch.sin(PI*x))**2 #计算f(x)的值\n",
    "    #     m_loss =  u_xx-u**2 *u_x -fx #计算损失函数\n",
    "        \n",
    "    #     return m_loss #返回损失函数\n",
    "\n",
    "\n",
    "    \n",
    "    def loss_func(self):\n",
    "        self.optimizer_LBFGS.zero_grad() #清除之前计算的梯度（在PyTorch中，梯度会累积，所以在每次新的优化迭代之前，我们需要清除之前的梯度）\n",
    "        \n",
    "        u0_pred = self.net_u(self.x0, self.t0) #调用之前定义的函数，传入参数得到神经网络的输出u\n",
    "        u_lb_pred = self.net_u(self.x_lb, self.t_lb) #调用之前定义的函数，传入参数得到神经网络的输出u\n",
    "        u_ub_pred = self.net_u(self.x_ub, self.t_ub) #调用之前定义的函数，传入参数得到神经网络的输出u\n",
    "        f_pred = self.net_f(self.x_f, self.t_f) #调用之前定义的函数，传入参数计算得到f\n",
    "    \n",
    "\n",
    "\n",
    "        loss = torch.mean((self.u0 - u0_pred) ** 2) + \\\n",
    "                torch.mean((u_lb_pred) ** 2) + \\\n",
    "                torch.mean((u_ub_pred) ** 2) + \\\n",
    "                torch.mean(f_pred ** 2) #计算损失函数\n",
    "        \n",
    "        loss.backward() #被调用以计算损失函数关于神经网络参数的梯度。这个梯度将被用于优化器来更新神经网络参数\n",
    "        self.iter += 1 #每调用一次损失函数，迭代次数加1\n",
    "        if self.iter % 100 == 0:\n",
    "            print(\n",
    "                'Iter %d, Loss: %.5e' % (self.iter, loss.item()) \n",
    "            ) #每100次迭代，打印一次迭代次数、总的loss、loss_u和loss_f\n",
    "        return loss #返回总的loss\n",
    "    \n",
    "    # def train(self, nIter, nIterLBFGS):\n",
    "    def train(self, nIter):\n",
    "        self.dnn.train() #将神经网络设置为训练模式而不是评估模式\n",
    "        \n",
    "        # # 初始化一个列表来存储每个epoch的权重矩阵\n",
    "        # self.weights = []   \n",
    "\n",
    "        #使用Adam优化器优化nIter次\n",
    "        # for epoch in tqdm(range(nIter), desc='Adam'):\n",
    "        for epoch in range(nIter):\n",
    "            u0_pred = self.net_u(self.x0, self.t0) #调用之前定义的函数，传入参数得到神经网络的输出u\n",
    "            u_lb_pred = self.net_u(self.x_lb, self.t_lb) #调用之前定义的函数，传入参数得到神经网络的输出u\n",
    "            u_ub_pred = self.net_u(self.x_ub, self.t_ub) #调用之前定义的函数，传入参数得到神经网络的输出u\n",
    "            f_pred = self.net_f(self.x_f, self.t_f) #调用之前定义的函数，传入参数计算得到f\n",
    "        \n",
    "\n",
    "\n",
    "            loss = torch.mean((self.u0 - u0_pred) ** 2) + \\\n",
    "                   torch.mean((u_lb_pred) ** 2) + \\\n",
    "                   torch.mean((u_ub_pred) ** 2) + \\\n",
    "                   torch.mean(f_pred ** 2) #计算损失函数\n",
    "            \n",
    "            # Backward and optimize\n",
    "            self.optimizer_Adam.zero_grad() #清除该优化器之前计算的梯度（在PyTorch中，梯度会累积，所以在每次新的优化迭代之前，我们需要清除之前的梯度）\n",
    "            loss.backward() #被调用以计算损失函数关于神经网络参数的梯度。这个梯度将被用于优化器来更新神经网络参数\n",
    "            self.optimizer_Adam.step()  #使用之前的优化器self.optimizer_Adam，调用step方法(执行一步优化算法)，传入损失函数self.loss_func，进行优化\n",
    "            \n",
    "            # #record the loss value\n",
    "            # self.loss_value.append(loss) #将计算得到的loss值添加到self.loss_value列表中\n",
    "\n",
    "            # # record the test error\n",
    "            # with torch.no_grad():\n",
    "            #     u_real_pred = self.net_u(self.x_star, self.t_star) #调用之前定义的函数，传入参数得到神经网络的输出u\n",
    "\n",
    "\n",
    "            # error_test = torch.norm(self.u_star-u_real_pred,2)/torch.norm(self.u_star,2)\n",
    "\n",
    "            # self.test_error.append(error_test)\n",
    "\n",
    "            # # 记录每一层的权重矩阵\n",
    "            # epoch_weights = []\n",
    "            # for layer in self.dnn.layers:\n",
    "            #     if isinstance(layer, torch.nn.Linear):  # 检查是否为全连接层\n",
    "            #         epoch_weights.append(layer.weight.data.clone())  # 使用.clone()来获取权重的副本\n",
    "            # self.weights.append(epoch_weights)\n",
    "\n",
    "            # W = self.weights\n",
    "\n",
    "            # for i in tqdm(range(1), desc='LBFGS'):\n",
    "            #     self.optimizer_LBFGS.step(self.loss_func)\n",
    "\n",
    "            \n",
    "    def predict(self, X):\n",
    "        x = torch.tensor(X[:, 0:1], requires_grad=True).float().to(device) #从输入中得到x和t（第一列和第二列），是张量，需要计算梯度，转换为浮点数类型，并将张量移动到指定设备上\n",
    "        t = torch.tensor(X[:, 1:2], requires_grad=True).float().to(device)\n",
    "\n",
    "        self.dnn.eval() #将神经网络切换为评估模式\n",
    "        u = self.net_u(x, t) #调用之前定义的函数得到神经网络的输出u,以及f\n",
    "        f = self.net_f(x, t)\n",
    "        u = u.detach().cpu().numpy() #将张量u和f先从计算图中分离出来，然后转换为numpy数组，最后将这个数组移动到cpu上\n",
    "        f = f.detach().cpu().numpy()\n",
    "        return u, f\n",
    "    \n",
    "    \n",
    "    def net_for_hidden_features(self, X):\n",
    "        self.dnn.eval() #将神经网络切换为评估模式\n",
    "        # x = torch.tensor(X[:, 0:1], requires_grad=True).float().to(device)\n",
    "        X = torch.tensor(X, requires_grad=True).float().to(device)\n",
    "        H,Fai = self.dnn.dnn_for_hidden_features(X, self.lb, self.ub)\n",
    "        H = H.detach().cpu().numpy()\n",
    "        Fai = Fai.detach().cpu().numpy()\n",
    "        return H,Fai\n",
    "\n",
    "\n",
    "\n",
    "\n",
    "    # def hidden_predict(self, x,t):\n",
    "    #     x = torch.tensor(x, requires_grad=True).float().to(device) #从输入中得到x和t（第一列和第二列），是张量，需要计算梯度，转换为浮点数类型，并将张量移动到指定设备上\n",
    "    #     t = torch.tensor(t, requires_grad=True).float().to(device)\n",
    "    #     self.dnn.eval()\n",
    "    #     hidden_output = self.dnn.hidden_output(torch.cat([x, t], dim=1))\n",
    "    #     hidden_output_x = hidden_output[:, 0]\n",
    "    #     hidden_output_t = hidden_output[:, 1]\n",
    "    #     hidden_output_x = hidden_output_x.detach().cpu().numpy()\n",
    "    #     hidden_output_t = hidden_output_t.detach().cpu().numpy()\n",
    "    #     return hidden_output_x, hidden_output_t"
   ]
  },
  {
   "cell_type": "code",
   "execution_count": null,
   "metadata": {},
   "outputs": [],
   "source": []
  },
  {
   "cell_type": "code",
   "execution_count": 5,
   "metadata": {},
   "outputs": [],
   "source": [
    "noise = 0.0        \n",
    "    \n",
    "# Doman bounds，边界值，t为0到1，x为-1到1\n",
    "lb = np.array([-1.0, 0.0]) #  spatial time\n",
    "ub = np.array([1.0, 1.0])  # spatial time\n",
    "\n",
    "N0 = 20 #初值训练点数量\n",
    "N_b = 20 #边界训练点数量\n",
    "N_f = 200 #配位点数\n",
    "gamma = 5.0 #GP参数\n",
    "num_of_GP = 1024 #GP参数\n",
    "layers = [2,  100, 100, 100,100,1]\n",
    "\n",
    "t = np.linspace(lb[1],ub[1],101) #生成一个从0~1的等差数列，共101个数，代表t\n",
    "t =t.flatten()[:,None] #将t展平，然后转置，变成101行1列的数组\n",
    "x = np.linspace(lb[0],ub[0],101) #生成一个从-1~1的等差数列，共101个数，代表x\n",
    "x =x.flatten()[:,None] #将x展平，然后转置，变成101行1列的数组\n",
    "X, T = np.meshgrid(x,t) #生成网格点坐标矩阵\n",
    "X_star = np.hstack((X.flatten()[:,None], T.flatten()[:,None])) #将X和T展平，然后在第二个维度上进行拼接，形成一个新的数组\n",
    "\n",
    "idx_x = np.random.choice(x.shape[0], N0, replace=False) # index to use for initial conditions\n",
    "x0 = x[idx_x,:] # The value of x under initial conditions\n",
    "u0 = np.sin(np.pi*x0)\n",
    "\n",
    "idx_t = np.random.choice(t.shape[0], N_b, replace=False) # Index used for boundary conditions\n",
    "tb = t[idx_t,:]   \n",
    "X_f = lb + (ub-lb)*lhs(2, N_f) #生成配位点\n",
    "\n",
    "data = scipy.io.loadmat('collocationpoint.mat')  \n",
    "\n",
    "X_f = data['collocationpoint']  \n",
    "x0 = X_f[0:20,0:1]\n",
    "u0 = np.sin(np.pi*x0)\n",
    "tb = X_f[20:40,1:2]\n",
    "X_f = X_f[60:X_f.shape[0],:]  # In order to be consistent with the previous results"
   ]
  },
  {
   "cell_type": "code",
   "execution_count": 6,
   "metadata": {},
   "outputs": [
    {
     "name": "stdout",
     "output_type": "stream",
     "text": [
      "Training time: 33.2681\n"
     ]
    }
   ],
   "source": [
    "model = PhysicsInformedNN(x0, u0, tb, X_f, layers, lb, ub, gamma, num_of_GP)\n",
    "\n",
    "start_time = time.time()               \n",
    "model.train(5000)\n",
    "elapsed = time.time() - start_time                \n",
    "print('Training time: %.4f' % (elapsed))   "
   ]
  },
  {
   "cell_type": "code",
   "execution_count": 7,
   "metadata": {},
   "outputs": [],
   "source": [
    "# 训练时，所用的数据集X_know\n",
    "X0 = np.concatenate((x0, 0*x0), 1) # (x0, 0)，初值点数据\n",
    "X_lb = np.concatenate((0*tb + lb[0], tb), 1) # (lb[0], tb)，边界点数据\n",
    "X_ub = np.concatenate((0*tb + ub[0], tb), 1) # (ub[0], tb)，边界点数据\n",
    "X_know = np.concatenate((X0, X_lb, X_ub, X_f),0) # X_know the corresponding predicted value，代表所有的训练点数据（初值+边界值+配位点）\n",
    "u_pred, f_u_pred = model.predict(X_know) #预测所有训练点的u和f\n",
    "f_know = u_pred #f_know代表所有训练点的预测u值，即神经网络的输出"
   ]
  },
  {
   "cell_type": "code",
   "execution_count": 8,
   "metadata": {},
   "outputs": [
    {
     "name": "stdout",
     "output_type": "stream",
     "text": [
      "(160, 2)\n",
      "(160, 1)\n",
      "(160, 1)\n"
     ]
    }
   ],
   "source": [
    "print(X_know.shape)\n",
    "# print(X_know)\n",
    "print(u_pred.shape)\n",
    "# print(u_pred)\n",
    "print(f_u_pred.shape)\n",
    "# print(f_u_pred)\n"
   ]
  },
  {
   "cell_type": "code",
   "execution_count": 9,
   "metadata": {},
   "outputs": [],
   "source": [
    "u_pred, f_u_pred = model.predict(X_star) #测试点的输出u和f\n",
    "prediction_all = u_pred #测试点的预测u值，即神经网络的输出"
   ]
  },
  {
   "cell_type": "code",
   "execution_count": 10,
   "metadata": {},
   "outputs": [
    {
     "name": "stdout",
     "output_type": "stream",
     "text": [
      "(10201, 1)\n",
      "[[-2.6138388e-03]\n",
      " [-6.3855171e-02]\n",
      " [-1.2546751e-01]\n",
      " ...\n",
      " [ 5.3310506e-02]\n",
      " [ 2.6894398e-02]\n",
      " [-6.5725297e-05]]\n",
      "(10201, 1)\n"
     ]
    }
   ],
   "source": [
    "print(u_pred.shape)\n",
    "print(u_pred)\n",
    "print(f_u_pred.shape)"
   ]
  },
  {
   "cell_type": "code",
   "execution_count": 11,
   "metadata": {},
   "outputs": [],
   "source": [
    "# Hidden layer of X_konw\n",
    "Hidden_pred_small, Fai_pred_small = model.net_for_hidden_features(X_know) #获得高斯过程层的在训练点的两个输出\n",
    "X = Hidden_pred_small #X代表训练点的高斯过程层的常规输出\n",
    "hidden_feat_know = Fai_pred_small #hidden_feat_know代表训练点的高斯过程层的特殊处理输出"
   ]
  },
  {
   "cell_type": "code",
   "execution_count": 12,
   "metadata": {},
   "outputs": [
    {
     "name": "stdout",
     "output_type": "stream",
     "text": [
      "(160, 100)\n",
      "[[-0.10191853  0.04799568 -0.23635654 ...  0.08968396 -0.04540341\n",
      "   0.07570164]\n",
      " [-0.03714184  0.01922866 -0.17877628 ... -0.05349967 -0.08362316\n",
      "   0.06275699]\n",
      " [-0.14485642  0.06722017 -0.27403793 ...  0.18389907 -0.0197252\n",
      "   0.08435701]\n",
      " ...\n",
      " [ 0.06268528 -0.0100187   0.05474356 ... -0.06372425 -0.0115547\n",
      "   0.05746884]\n",
      " [ 0.06618834 -0.01009006  0.07213958 ... -0.05067168 -0.00060293\n",
      "   0.05821885]\n",
      " [ 0.12610812 -0.02453093  0.24124724 ... -0.01110373  0.07165618\n",
      "   0.05820438]]\n",
      "(160, 1024)\n",
      "[[-0.02611704  0.00782266  0.03599394 ... -0.01147031  0.04263663\n",
      "  -0.03257621]\n",
      " [-0.03832899  0.00730978  0.04382015 ... -0.01495745 -0.026324\n",
      "  -0.02885983]\n",
      " [ 0.01448709 -0.04419279  0.02125525 ... -0.01510256  0.02256564\n",
      "  -0.03645224]\n",
      " ...\n",
      " [ 0.02677586  0.04100104 -0.01962858 ...  0.04144248  0.03534763\n",
      "  -0.03026527]\n",
      " [ 0.01925834  0.04419186  0.02666177 ...  0.04326989  0.01941883\n",
      "  -0.02329485]\n",
      " [-0.04207959 -0.00574088  0.01269672 ... -0.04364272 -0.02616063\n",
      "   0.03672172]]\n"
     ]
    }
   ],
   "source": [
    "print(Hidden_pred_small.shape)\n",
    "print(Hidden_pred_small)\n",
    "print(Fai_pred_small.shape)\n",
    "print(Fai_pred_small)"
   ]
  },
  {
   "cell_type": "code",
   "execution_count": 13,
   "metadata": {},
   "outputs": [],
   "source": [
    "#Hidden layer for new data\n",
    "Hidden_pred_all, Fai_pred_all = model.net_for_hidden_features(X_star) #获得高斯过程层的在测试点的两个输出\n",
    "X_xing = Hidden_pred_all #X_xing代表测试点的高斯过程层的常规输出\n",
    "hidden_feat_all = Fai_pred_all #hidden_feat_all代表测试点的高斯过程层的特殊处理输出"
   ]
  },
  {
   "cell_type": "code",
   "execution_count": 14,
   "metadata": {},
   "outputs": [
    {
     "name": "stdout",
     "output_type": "stream",
     "text": [
      "(10201, 100)\n",
      "[[-0.17512256  0.0808848  -0.3003829  ...  0.24910904 -0.001416\n",
      "   0.09051481]\n",
      " [-0.17364556  0.08021537 -0.29910123 ...  0.24595816 -0.00231398\n",
      "   0.09021299]\n",
      " [-0.17216776  0.07954587 -0.29781848 ...  0.24280205 -0.00321196\n",
      "   0.08991116]\n",
      " ...\n",
      " [ 0.22081007 -0.06478695  0.34877336 ... -0.18382937  0.03945215\n",
      "   0.04155158]\n",
      " [ 0.22225864 -0.06545789  0.35000965 ... -0.18707047  0.03855554\n",
      "   0.04124781]\n",
      " [ 0.22370622 -0.06612877  0.35124472 ... -0.19030751  0.03765886\n",
      "   0.04094402]]\n",
      "(10201, 1024)\n",
      "[[ 0.03652208 -0.01702185 -0.02411831 ...  0.04367483 -0.0173807\n",
      "  -0.03900934]\n",
      " [ 0.03575966 -0.0193218  -0.01807674 ...  0.04293835 -0.01547519\n",
      "  -0.03889531]\n",
      " [ 0.034961   -0.02156213 -0.01158738 ...  0.04188632 -0.01353803\n",
      "  -0.03877993]\n",
      " ...\n",
      " [ 0.03919614  0.01946919 -0.0361586  ...  0.01265025 -0.02963725\n",
      "   0.0376879 ]\n",
      " [ 0.03979552  0.01723196 -0.0397411  ...  0.00900022 -0.02813969\n",
      "   0.0375374 ]\n",
      " [ 0.04035594  0.01494444 -0.04230851 ...  0.00529291 -0.02658496\n",
      "   0.03738495]]\n"
     ]
    }
   ],
   "source": [
    "print(Hidden_pred_all.shape)\n",
    "print(Hidden_pred_all)    \n",
    "print(Fai_pred_all.shape)\n",
    "print(Fai_pred_all)"
   ]
  },
  {
   "cell_type": "code",
   "execution_count": 15,
   "metadata": {},
   "outputs": [],
   "source": [
    "#获取X_xing（测试点的高斯过程层的常规输出）的协方差矩阵Cov_xing_xing\n",
    "n_xing = X_xing.shape[0]\n",
    "Cov_xing_xing = np.zeros(shape=(n_xing, n_xing), dtype=float)\n",
    "for i in range(n_xing):\n",
    "    for j in range(n_xing):\n",
    "        xi = X_xing[i:i+1,:]\n",
    "        xj = X_xing[j:j+1,:]\n",
    "        dij = np.sum((xi-xj)**2)\n",
    "        Cov_xing_xing[i][j] = np.exp(-gamma*dij)"
   ]
  },
  {
   "cell_type": "code",
   "execution_count": 16,
   "metadata": {},
   "outputs": [
    {
     "name": "stdout",
     "output_type": "stream",
     "text": [
      "10201\n",
      "(10201, 10201)\n",
      "[[1.00000000e+00 9.96327138e-01 9.85363441e-01 ... 1.21435133e-30\n",
      "  5.66266049e-31 2.62608618e-31]\n",
      " [9.96327138e-01 1.00000000e+00 9.96314058e-01 ... 2.60571576e-30\n",
      "  1.22397248e-30 5.71784909e-31]\n",
      " [9.85363441e-01 9.96314058e-01 1.00000000e+00 ... 5.55925237e-30\n",
      "  2.63050906e-30 1.23784178e-30]\n",
      " ...\n",
      " [1.21435133e-30 2.60571576e-30 5.55925237e-30 ... 1.00000000e+00\n",
      "  9.96379769e-01 9.85625110e-01]\n",
      " [5.66266049e-31 1.22397248e-30 2.63050906e-30 ... 9.96379769e-01\n",
      "  1.00000000e+00 9.96393702e-01]\n",
      " [2.62608618e-31 5.71784909e-31 1.23784178e-30 ... 9.85625110e-01\n",
      "  9.96393702e-01 1.00000000e+00]]\n",
      "(10201, 10201)\n"
     ]
    }
   ],
   "source": [
    "print(n_xing)\n",
    "print(Cov_xing_xing.shape)\n",
    "print(Cov_xing_xing)\n",
    "print(np.zeros(shape=(n_xing,n_xing), dtype=float).shape)"
   ]
  },
  {
   "cell_type": "code",
   "execution_count": 17,
   "metadata": {},
   "outputs": [],
   "source": [
    "#获取X（训练点的高斯过程层的常规输出）的协方差矩阵Cov_X_X\n",
    "n = X.shape[0]\n",
    "Cov_X_X = np.zeros(shape=(n, n), dtype=float)\n",
    "for i in range(n):\n",
    "    for j in range(n):\n",
    "        xi = X[i:i+1,:]\n",
    "        xj = X[j:j+1,:]\n",
    "        dij = np.sum((xi-xj)**2)\n",
    "        Cov_X_X[i][j] = np.exp(-gamma*dij)"
   ]
  },
  {
   "cell_type": "code",
   "execution_count": 18,
   "metadata": {},
   "outputs": [
    {
     "name": "stdout",
     "output_type": "stream",
     "text": [
      "160\n",
      "(160, 160)\n",
      "[[1.00000000e+00 8.07100433e-04 3.85622170e-02 ... 2.48582905e-05\n",
      "  2.32086897e-05 6.37045482e-11]\n",
      " [8.07100433e-04 1.00000000e+00 2.05552967e-09 ... 1.52346743e-03\n",
      "  2.52004035e-04 3.56496242e-13]\n",
      " [3.85622170e-02 2.05552967e-09 1.00000000e+00 ... 5.73676231e-10\n",
      "  1.75659552e-09 9.34201462e-13]\n",
      " ...\n",
      " [2.48582905e-05 1.52346743e-03 5.73676231e-10 ... 1.00000000e+00\n",
      "  8.43656810e-01 1.92836196e-04]\n",
      " [2.32086897e-05 2.52004035e-04 1.75659552e-09 ... 8.43656810e-01\n",
      "  1.00000000e+00 1.66624160e-03]\n",
      " [6.37045482e-11 3.56496242e-13 9.34201462e-13 ... 1.92836196e-04\n",
      "  1.66624160e-03 1.00000000e+00]]\n",
      "(160, 160)\n"
     ]
    }
   ],
   "source": [
    "print(n)\n",
    "print(Cov_X_X.shape)\n",
    "print(Cov_X_X)\n",
    "print(np.zeros(shape=(n,n), dtype=float).shape)"
   ]
  },
  {
   "cell_type": "code",
   "execution_count": 19,
   "metadata": {},
   "outputs": [],
   "source": [
    "#计算X_xing（测试点的高斯过程层的常规输出）和X（训练点的高斯过程层的常规输出）的协方差矩阵Cov_xing_X\n",
    "Cov_xing_X = np.zeros(shape=(n_xing, n), dtype=float)\n",
    "for i in range(n_xing):\n",
    "    for j in range(n):\n",
    "        xi = X_xing[i:i+1,:]\n",
    "        xj = X[j:j+1,:]\n",
    "        dij = np.sum((xi-xj)**2)\n",
    "        Cov_xing_X[i][j] = np.exp(-gamma*dij)"
   ]
  },
  {
   "cell_type": "code",
   "execution_count": 20,
   "metadata": {},
   "outputs": [
    {
     "name": "stdout",
     "output_type": "stream",
     "text": [
      "(10201, 160)\n",
      "[[8.58476779e-05 5.66892854e-15 2.06577724e-01 ... 7.84999596e-15\n",
      "  5.53146174e-14 1.21791538e-15]\n",
      " [1.23964527e-04 1.13086736e-14 2.39688913e-01 ... 1.44770826e-14\n",
      "  9.79759499e-14 1.80043437e-15]\n",
      " [1.77807570e-04 2.24216460e-14 2.76136462e-01 ... 2.65355740e-14\n",
      "  1.72467359e-13 2.64450807e-15]\n",
      " ...\n",
      " [9.58198464e-18 7.64515036e-13 2.09918606e-24 ... 8.98942543e-05\n",
      "  1.27996452e-04 6.19266501e-05]\n",
      " [6.45720837e-18 7.09978140e-13 1.13860719e-24 ... 7.71469736e-05\n",
      "  1.05521287e-04 4.26316892e-05]\n",
      " [4.32448846e-18 6.54829254e-13 6.14026346e-25 ... 6.57581243e-05\n",
      "  8.64083195e-05 2.91592105e-05]]\n",
      "(10201, 160)\n"
     ]
    }
   ],
   "source": [
    "print(Cov_xing_X.shape)\n",
    "print(Cov_xing_X)\n",
    "print(np.zeros(shape=(n_xing,n), dtype=float).shape)"
   ]
  },
  {
   "cell_type": "code",
   "execution_count": 21,
   "metadata": {},
   "outputs": [],
   "source": [
    "#将X_xing（测试点的高斯过程层的常规输出）和X（训练点的高斯过程层的常规输出）的协方差矩阵Cov_xing_X进行转置\n",
    "Cov_X_xing = Cov_xing_X.T"
   ]
  },
  {
   "cell_type": "code",
   "execution_count": 22,
   "metadata": {},
   "outputs": [
    {
     "name": "stdout",
     "output_type": "stream",
     "text": [
      "(160, 10201)\n"
     ]
    }
   ],
   "source": [
    "print(Cov_X_xing.shape)"
   ]
  },
  {
   "cell_type": "code",
   "execution_count": 23,
   "metadata": {},
   "outputs": [],
   "source": [
    "rho_orig = Cov_X_X #X（训练点的高斯过程层的常规输出）的协方差矩阵Cov_X_X，将其赋值给rho_orig\n",
    "xishu = 100000000 #一个常数，用于放大协方差矩阵的元素，避免数值计算精度问题\n",
    "rho = rho_orig*xishu # 将X（训练点的高斯过程层的常规输出）的协方差矩阵Cov_X_X（现在是rho_orig）放大xishu倍，得到rho\n",
    "u, s, v = np.linalg.svd(rho) #对放大后的协方差矩阵rho进行奇异值分解，得到矩阵u，奇异值向量s和矩阵v，具体rho = u * np.diag(s) * v.T\n",
    "inv_s=np.linalg.inv(np.diag(s)) #计算奇异值向量s对角矩阵的逆矩阵inv_s\n",
    "t1= np.matmul(v.T, inv_s) #将矩阵v的转置与逆奇异值矩阵inv_s相乘，得到中间结果 t1\n",
    "t2= np.matmul(t1, u.T) #将中间结果t1与矩阵u的转置相乘，得到中间结果t2\n",
    "# Check whether the obtained inverse matrix is correct. If it is the identity matrix, it means there is no problem.\n",
    "t3= np.matmul(t2, rho) #将中间结果t2与矩阵rho相乘，得到结果t3。如果t2是rho的正确逆矩阵，那么t3应该是一个单位矩阵（即对角线元素为1，其余元素为0）\n",
    "# Inverse of covariance matrix\n",
    "inv_rho = t2*xishu  #将中间结果t2的每个元素乘以放大常数xishu，得到原始协方差矩阵rho_orig（即X（训练点的高斯过程层的常规输出）的协方差矩阵Cov_X_X）的逆矩阵 inv_rho"
   ]
  },
  {
   "cell_type": "code",
   "execution_count": 42,
   "metadata": {},
   "outputs": [
    {
     "name": "stdout",
     "output_type": "stream",
     "text": [
      "[[ 1.00000000e+00  5.57766666e-10  1.14928378e-10 ... -5.60552856e-10\n",
      "  -3.99335416e-10  9.83924053e-11]\n",
      " [ 2.04417382e-11  1.00000000e+00 -4.20969006e-11 ...  5.77719884e-11\n",
      "   4.21666313e-11 -3.35376171e-12]\n",
      " [-8.55627753e-09  3.05113736e-08  1.00000003e+00 ... -1.48806399e-08\n",
      "  -4.22700114e-09  1.42506451e-10]\n",
      " ...\n",
      " [ 8.72283845e-13 -2.17142824e-11 -1.97033619e-11 ...  1.00000000e+00\n",
      "   2.89990254e-12  5.47828449e-12]\n",
      " [ 8.38621105e-14  1.40642082e-11  1.27729998e-11 ... -3.42269615e-13\n",
      "   1.00000000e+00 -3.32889272e-12]\n",
      " [-3.82471491e-14 -1.07624197e-12  8.53067660e-13 ... -4.79900841e-13\n",
      "  -5.61772850e-14  1.00000000e+00]]\n"
     ]
    }
   ],
   "source": [
    "print(np.matmul(inv_rho, Cov_X_X))"
   ]
  },
  {
   "cell_type": "code",
   "execution_count": 34,
   "metadata": {},
   "outputs": [],
   "source": [
    "#计算一个新的协方差矩阵sigma_2，具体为X_xing（测试点的高斯过程层的常规输出）的协方差矩阵Cov_xing_xing减去（Cov_xing_X 和 inv_rho 的矩阵乘积）与矩阵 Cov_X_xing 的矩阵乘积\n",
    "sigma_2= Cov_xing_xing - np.matmul(np.matmul(Cov_xing_X, inv_rho), Cov_X_xing)"
   ]
  },
  {
   "cell_type": "code",
   "execution_count": 35,
   "metadata": {},
   "outputs": [
    {
     "name": "stdout",
     "output_type": "stream",
     "text": [
      "(10201, 10201)\n"
     ]
    }
   ],
   "source": [
    "print(sigma_2.shape)"
   ]
  },
  {
   "cell_type": "code",
   "execution_count": 36,
   "metadata": {},
   "outputs": [],
   "source": [
    "sigma_2 = np.diag(sigma_2) #将上一步得到的矩阵sigma_2的对角线元素取出，形成一个新的一维向量\n",
    "sigma_2 = np.abs(sigma_2) #将数组sigma_2中的每个元素取绝对值\n",
    "sigma = np.sqrt(sigma_2) #将上一步得到的数组sigma_2中的每个元素取平方根，得到新的数组sigma\n",
    "sigma = sigma[:, np.newaxis] #将数组sigma转置（转换为列向量）"
   ]
  },
  {
   "cell_type": "code",
   "execution_count": 37,
   "metadata": {},
   "outputs": [
    {
     "name": "stdout",
     "output_type": "stream",
     "text": [
      "(10201, 1)\n"
     ]
    }
   ],
   "source": [
    "print(sigma.shape)"
   ]
  },
  {
   "cell_type": "code",
   "execution_count": 41,
   "metadata": {},
   "outputs": [
    {
     "data": {
      "image/png": "[encoded data removed]",
      "text/plain": [
       "<Figure size 800x800 with 2 Axes>"
      ]
     },
     "metadata": {},
     "output_type": "display_data"
    }
   ],
   "source": [
    "# 将 sigma 重塑为 (101, 101) 的形状\n",
    "sigma_reshaped = sigma.reshape((101, 101))\n",
    "\n",
    "# 将数据上下颠倒\n",
    "sigma_reshaped_flipped = np.flipud(sigma_reshaped)\n",
    "\n",
    "# 绘制图像\n",
    "plt.figure(figsize=(8, 8))\n",
    "plt.imshow(sigma_reshaped_flipped, cmap='viridis', aspect='auto')\n",
    "plt.colorbar(label='Sigma Values')\n",
    "plt.title('Sigma Heatmap')\n",
    "plt.xlabel('X-axis')\n",
    "plt.ylabel('Y-axis')\n",
    "plt.show()"
   ]
  },
  {
   "cell_type": "code",
   "execution_count": 39,
   "metadata": {},
   "outputs": [
    {
     "data": {
      "image/png": "[encoded data removed]",
      "text/plain": [
       "<Figure size 800x800 with 2 Axes>"
      ]
     },
     "metadata": {},
     "output_type": "display_data"
    }
   ],
   "source": [
    "# 对 sigma 数据取对数\n",
    "sigma_log = np.log10(sigma_reshaped)\n",
    "\n",
    "# 绘制图像\n",
    "plt.figure(figsize=(8, 8))\n",
    "plt.imshow(sigma_log, cmap='viridis', aspect='auto')\n",
    "plt.colorbar(label='Log10(Sigma Values)')\n",
    "plt.title('Log10 Sigma Heatmap')\n",
    "plt.xlabel('X-axis')\n",
    "plt.ylabel('Y-axis')\n",
    "plt.show()"
   ]
  },
  {
   "cell_type": "code",
   "execution_count": null,
   "metadata": {},
   "outputs": [],
   "source": []
  },
  {
   "cell_type": "code",
   "execution_count": 32,
   "metadata": {},
   "outputs": [
    {
     "name": "stdout",
     "output_type": "stream",
     "text": [
      "[[-1.    0.  ]\n",
      " [-0.98  0.  ]\n",
      " [-0.96  0.  ]\n",
      " ...\n",
      " [ 0.96  1.  ]\n",
      " [ 0.98  1.  ]\n",
      " [ 1.    1.  ]]\n",
      "(10201, 2)\n"
     ]
    }
   ],
   "source": [
    "print(X_star)\n",
    "print(X_star.shape)"
   ]
  },
  {
   "cell_type": "code",
   "execution_count": 26,
   "metadata": {},
   "outputs": [],
   "source": [
    "# reall value\n",
    "reall_all = np.sin(np.pi*X_star[:,0:1])*np.exp(-X_star[:,1:2]) #？？？？\n",
    "# Predictive value\n",
    "prediction_all = u_pred #代表训练点的神经网络输出u"
   ]
  },
  {
   "cell_type": "code",
   "execution_count": 27,
   "metadata": {},
   "outputs": [],
   "source": [
    "Sigma = sigma #将之前得到的sigma数组赋值给Sigma"
   ]
  },
  {
   "cell_type": "code",
   "execution_count": 28,
   "metadata": {},
   "outputs": [],
   "source": [
    "#The set of loc values is: 0 25 50 100++.\n",
    "loc = 100;  \n",
    "loc_index= loc*101 + np.arange(1, 102); #这行代码生成一个索引数组loc_index，这个数组的元素是一个等差数列，从loc*101+1到loc*101+101（即10101到10201），步长为1\n",
    "loc_index = loc_index -1  #将loc_index中的每个元素减1，即索引数组为从loc*101到loc*101+100（即10100到10200），步长为1\n",
    "\n",
    "x_t = np.linspace(-1, 1, 101); #x_t是一个-1到1的数组，共101个数（等间距）"
   ]
  },
  {
   "cell_type": "code",
   "execution_count": 29,
   "metadata": {},
   "outputs": [],
   "source": [
    "reall = reall_all[loc_index] #将reall_all数组中的loc_index索引对应的元素取出，赋值给reall\n",
    "prediction = prediction_all[loc_index] #将prediction_all数组（神经网络的输出u）中的loc_index索引对应的元素取出，赋值给prediction"
   ]
  },
  {
   "cell_type": "code",
   "execution_count": 30,
   "metadata": {},
   "outputs": [],
   "source": [
    "sigma = Sigma[loc_index] #将Sigma数组中的loc_index索引对应的元素取出，赋值给sigma"
   ]
  },
  {
   "cell_type": "code",
   "execution_count": 31,
   "metadata": {},
   "outputs": [
    {
     "data": {
      "text/plain": [
       "[<matplotlib.lines.Line2D at 0x26c84992ce0>]"
      ]
     },
     "execution_count": 31,
     "metadata": {},
     "output_type": "execute_result"
    },
    {
     "data": {
      "image/png": "[encoded data removed]",
      "text/plain": [
       "<Figure size 640x480 with 1 Axes>"
      ]
     },
     "metadata": {},
     "output_type": "display_data"
    }
   ],
   "source": [
    "# plot\n",
    "plt.style.use('default')\n",
    "plt.figure()\n",
    "\n",
    "plt.plot(x_t,reall,'k')\n",
    "plt.plot(x_t,prediction,'r')\n",
    "plt.plot(x_t,prediction+3*sigma,'b')\n",
    "\n",
    "\n",
    "plt.legend(['Ground truth','Prediction','Uncertainty bound'], loc = 'best') \n",
    "plt.plot(x_t, prediction-3*sigma, 'b')"
   ]
  },
  {
   "cell_type": "code",
   "execution_count": 33,
   "metadata": {},
   "outputs": [
    {
     "ename": "NameError",
     "evalue": "name 'X_XING' is not defined",
     "output_type": "error",
     "traceback": [
      "\u001b[1;31m---------------------------------------------------------------------------\u001b[0m",
      "\u001b[1;31mNameError\u001b[0m                                 Traceback (most recent call last)",
      "Cell \u001b[1;32mIn[33], line 1\u001b[0m\n\u001b[1;32m----> 1\u001b[0m \u001b[38;5;28mprint\u001b[39m(\u001b[43mX_XING\u001b[49m)\n",
      "\u001b[1;31mNameError\u001b[0m: name 'X_XING' is not defined"
     ]
    }
   ],
   "source": [
    "print(X_XING)"
   ]
  },
  {
   "cell_type": "code",
   "execution_count": null,
   "metadata": {},
   "outputs": [],
   "source": []
  },
  {
   "cell_type": "code",
   "execution_count": null,
   "metadata": {},
   "outputs": [],
   "source": []
  },
  {
   "cell_type": "code",
   "execution_count": null,
   "metadata": {},
   "outputs": [],
   "source": []
  }
 ],
 "metadata": {
  "kernelspec": {
   "display_name": "Python 3",
   "language": "python",
   "name": "python3"
  },
  "language_info": {
   "codemirror_mode": {
    "name": "ipython",
    "version": 3
   },
   "file_extension": ".py",
   "mimetype": "text/x-python",
   "name": "python",
   "nbconvert_exporter": "python",
   "pygments_lexer": "ipython3",
   "version": "3.10.13"
  }
 },
 "nbformat": 4,
 "nbformat_minor": 4
}
