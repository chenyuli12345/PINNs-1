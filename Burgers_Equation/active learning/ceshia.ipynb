{
 "cells": [
  {
   "cell_type": "code",
   "execution_count": 30,
   "metadata": {},
   "outputs": [],
   "source": [
    "#下面这行代码，是为了把自己编写的代码文件当作一共模块导入，这里是把Utilities文件夹中的plotting.py文件当作python的模块导入，对应的是下面的from plotting import newfig, savefig。路径要随着不同设备的系统做相应的修改\n",
    "import sys #导入sys模块。sys模块提供了一些变量和函数，用于与 Python解释器进行交互和访问。例如，sys.path 是一个 Python 在导入模块时会查找的路径列表，sys.argv 是一个包含命令行参数的列表，sys.exit() 函数可以用于退出 Python 程序。导入 sys 模块后，你就可以在你的程序中使用这些变量和函数了。\n",
    "# sys.path.insert(0, '../../Utilities/') #在 Python的sys.path列表中插入一个新的路径。sys.path是一个 Python 在导入模块时会查找的路径列表。新的路径'../../Utilities/'相对于当前脚本的路径。当你尝试导入一个模块时，Python 会在 sys.path 列表中的路径下查找这个模块。通过在列表开始位置插入一个路径，你可以让 Python 优先在这个路径下查找模块。这在你需要导入自定义模块或者不在 Python 标准库中的模块时非常有用。\n",
    "\n",
    "import torch\n",
    "#collections是python一个内置模块，提供了一些有用的数据结构\n",
    "from collections import OrderedDict  #这个类是字典dict的一个子类，用于创建有序的字典。普通字典中元素顺序是无序的，在OrderedDict中元素的顺序是有序的，元素的顺序是按照它们被添加到字典中的顺序决定的。\n",
    "\n",
    "from pyDOE import lhs #`pyDOE`是一个Python库，用于设计实验。它提供了一些函数来生成各种设计，如因子设计、拉丁超立方设计等。`lhs`是库中的一个函数，全名为\"Latin Hypercube Sampling\"，拉丁超立方采样。这是一种统计方法，用于生成一个近似均匀分布的多维样本点集。它在参数空间中生成一个非常均匀的样本，这对于高维数值优化问题非常有用，因为它可以更好地覆盖参数空间。\n",
    "import numpy as np\n",
    "import matplotlib.pyplot as plt\n",
    "import scipy.io #导入了scipy库中的io模块。scipy.io模块包含了一些用于文件输入/输出的函数，例如读取和写入.mat文件（MATLAB格式）\n",
    "from scipy.interpolate import griddata #`scipy.interpolate`是`scipy`库中的一个模块，提供了许多插值工具，用于在给定的离散数据点之间进行插值和拟合。`griddata`是这个模块中的一个函数，用于在无规则的数据点上进行插值。\n",
    "\n",
    "import random\n",
    "\n",
    "import skopt #用于优化问题的库，特别是机器学习中的超参数优化\n",
    "from distutils.version import LooseVersion #distutils是Python的一个标准库，用于构建和安装Python包。LooseVersion是一个类，用于比较版本号\n",
    "\n",
    "\n",
    "# from plotting_torch import newfig, savefig #从自定义的plotting_torch.py文件中导入了newfig和savefig函数。这两个函数用于创建和保存图形。这两个函数的定义在plotting_torch.py文件中\n",
    "\n",
    "from mpl_toolkits.axes_grid1 import make_axes_locatable #`mpl_toolkits.axes_grid1`是`matplotlib`库的一个模块，提供了一些高级的工具来控制matplotlib图形中的坐标轴和颜色条。`make_axes_locatable`是模块中的一个函数，用于创建一个可分割的坐标轴。可以在这个坐标轴的四个方向（上、下、左、右）添加新的坐标轴或颜色条。\n",
    "import matplotlib.gridspec as gridspec #是`matplotlib`库的一个模块，用于创建一个网格布局来放置子图。在`matplotlib`中可以创建一个或多个子图（subplot），每个子图都有自己的坐标轴，并可以在其中绘制图形。`gridspec`模块提供了一个灵活的方式来创建和放置子图。\n",
    "import time #一个内置模块，用于处理时间相关的操作。\n",
    "\n",
    "\n",
    "from tqdm import tqdm #一个快速，可扩展的python进度条库，可以在python长循环中添加一个进度提示信息，用户只需要封装任意的迭代器tqdm(iterator)。\n",
    "\n",
    "import math\n",
    "import pandas as pd #pandas用于处理结构化数据\n",
    "from scipy.io import savemat #导入sys模块。sys模块提供了一些变量和函数，用于与 Python解释器进行交互和访问。例如，sys.path 是一个 Python 在导入模块时会查找的路径列表，sys.argv 是一个包含命令行参数的列表，sys.exit() 函数可以用于退出 Python 程序。导入 sys 模块后，你就可以在你的程序中使用这些变量和函数了。\n",
    "from mpl_toolkits.mplot3d import Axes3D #`mpl_toolkits.mplot3d`是`matplotlib`库的一个模块，用于创建三维图形。`Axes3D`是`mpl_toolkits.mplot3d`模块中的一个类，用于创建一个三维的坐标轴。可以在这个坐标轴上绘制三维的图形，如曲线、曲面等。\n",
    "\n"
   ]
  },
  {
   "cell_type": "code",
   "execution_count": 31,
   "metadata": {},
   "outputs": [],
   "source": [
    "#定义采样函数，目的是采用sampler方法，生成n_samples个在指定空间内的准随机样本，这里space为二维的，因此每个样本都是一个二维点，即n_samples*2的数据点\n",
    "\n",
    "#共有6种采样器，分别是LHS、Halton、Hammersley、Sobol、Grid和Random，均为均匀采样方法\n",
    "\n",
    "def caiyang(n_samples, sampler): #接受两个参数，n_samples是样本数量，sampler是采样器名称，是一个字符串\n",
    "    space = [(-1.0, 1.0), (0.0, 1.0)] #指定样本生成的空间，一个二维空间，第一个维度是-1到1，第二个维度是0到1\n",
    "\n",
    "    #根据sampler的不同，选择不同的采样器，返回的sampler是一个采样器对象\n",
    "    if sampler == \"LHS\": #如果采样器是LHS（拉丁超采样，每个维度都被均匀划分为等量区间，每个样本都是从每个维度的一个区间中随机选取的）\n",
    "        sampler = skopt.sampler.Lhs(lhs_type=\"centered\", criterion=\"maximin\", iterations=1000) #第一个参数表示如何从每个区间选取样本，这里表示从每个区间的中心选取样本；第二个参数表示如何划分区间，这里表示尽可能使样本之间的最小距离最大；第三个表示通过优化过程得到样本量的迭代次数（即会尝试1000种不同的样本配置，并最终选择质量最好的那个）\n",
    "    elif sampler == \"Halton\": #Halton序列是一种低差异序列，用于在高维空间中生成点\n",
    "        sampler = skopt.sampler.Halton(min_skip=-1, max_skip=-1)  #两个参数用于控制序列的起始点，Halton序列可以通过跳过序列的前几个点来改变序列的七十点。两个参数分别制定了跳过点的最小和最大数量，这里-1表示不跳过任何点\n",
    "    elif sampler == \"Hammersley\": #Hammersley序列是一种低差异序列，用于在高维空间中生成点\n",
    "        sampler = skopt.sampler.Hammersly(min_skip=-1, max_skip=-1) #两个参数用于控制序列的起始点，Hammersley序列可以通过跳过序列的前几个点来改变序列的七十点。两个参数分别制定了跳过点的最小和最大数量，这里-1表示不跳过任何点\n",
    "    elif sampler == \"Sobol\":\n",
    "        # Remove the first point [0, 0, ...] and the second point [0.5, 0.5, ...], which are too special and may cause some error.\n",
    "        # Sobol采样器的实现有一个问题，即生成的前两个样本点通常不是随机的而是固定的，Sobol序列的前两个点（[0, 0, ...]和[0.5, 0.5, ...]）在许多情况下都被认为是“特殊”的点，可能会对某些计算产生不利影响。因此设置跳过前两个点，而且skopt库在0.9版本号取消了max/min_skip参数，所以需要根据skopt的版本号来选择不同的参数\n",
    "        if LooseVersion(skopt.__version__) < LooseVersion(\"0.9\"): #先检查skopt的版本是否大于0.9,若小于\n",
    "            sampler = skopt.sampler.Sobol(min_skip=2, max_skip=2, randomize=False) #则使用Sobol采样器，min_skip和max_skip表示跳过的点的数量，这里表示跳过前两个点，randomize表示是否随机化\n",
    "        else: #若skopt的版本大于0.9\n",
    "            sampler = skopt.sampler.Sobol(skip=0, randomize=False) #则使用Sobol采样器，skip表示跳过的点的数量，这里表示不跳过任何点，randomize表示是否随机化 \n",
    "            return np.array(sampler.generate(space, n_samples + 2)[2:]) #生成n_samples+2个样本，然后返回除了前两个样本之外的所有样本，也就是返回n_samples个样本，每个样本都是一个二维点，且范围在指定的空间space里面\n",
    "    elif sampler == \"Grid\":\n",
    "        x_min, x_max = space[1]\n",
    "        t_min, t_max = space[0]\n",
    "        \n",
    "        # 计算每个维度的网格大小\n",
    "        x_grid_size = (x_max - x_min) / (n_samples // int(np.sqrt(n_samples)) - 1) # x维度上（纵轴），每行有10个点\n",
    "        t_grid_size = (t_max - t_min) / int(np.sqrt(n_samples))  # \n",
    "        \n",
    "        # 生成等距均匀网格采样点\n",
    "        samples = []\n",
    "        for i in range(n_samples // int(np.sqrt(n_samples))):\n",
    "            for j in range(int(np.sqrt(n_samples))):\n",
    "                # 计算每个网格单元的中心点\n",
    "                x = x_min + i * x_grid_size\n",
    "                t = t_min + j * t_grid_size\n",
    "                samples.append([t, x])\n",
    "        \n",
    "        return np.array(samples)\n",
    "    \n",
    "    elif sampler == \"Random\":\n",
    "        # 从space中提取出x_min, x_max, t_min, t_max\n",
    "        x_min, x_max = space[1]\n",
    "        t_min, t_max = space[0]\n",
    "\n",
    "        # 生成x和t的随机数\n",
    "        x = np.random.rand(n_samples, 1) * (x_max - x_min) + x_min\n",
    "        t = np.random.rand(n_samples, 1) * (t_max - t_min) + t_min\n",
    "\n",
    "        # 将x和t合并为一个(n_samples, 2)的数组\n",
    "        samples = np.hstack((t, x))\n",
    "        return samples #生成一个形状为(n_samples, 2)的随机数组\n",
    "\n",
    "\n",
    "\n",
    "    return np.array(sampler.generate(space, n_samples)) #生成n_samples个样本，每个样本都是一个二维点，且范围在指定的空间space里面（n_samples*2）"
   ]
  },
  {
   "cell_type": "code",
   "execution_count": 32,
   "metadata": {},
   "outputs": [],
   "source": [
    "def Cov_cross_matrix(X1, X2, gamma):\n",
    "    n_1 = X1.shape[0]\n",
    "    n_2 = X2.shape[0]\n",
    "    Cov_X1_X2 = np.zeros(shape=(n_1, n_2), dtype=float)\n",
    "    for i in tqdm(range(n_1), desc='cross'):\n",
    "        for j in range(n_2):\n",
    "            xi = X1[i:i+1,:]\n",
    "            xj = X2[j:j+1,:]\n",
    "            dij = np.sum((xi-xj)**2)\n",
    "            Cov_X1_X2[i][j] = np.exp(-gamma*dij)\n",
    "    return Cov_X1_X2\n",
    "\n",
    "def Cov_cross_matrix_gpu(X1, X2, gamma):\n",
    "    # 将输入数据转换为 PyTorch 张量，并移动到 GPU 上\n",
    "    X1 = torch.tensor(X1, dtype=torch.float64).cuda()\n",
    "    X2 = torch.tensor(X2, dtype=torch.float64).cuda()\n",
    "    gamma = torch.tensor(gamma, dtype=torch.float64).cuda()\n",
    "\n",
    "    n_1 = X1.shape[0]\n",
    "    n_2 = X2.shape[0]\n",
    "    Cov_X1_X2 = torch.zeros((n_1, n_2), dtype=torch.float64).cuda()\n",
    "\n",
    "    for i in tqdm(range(n_1), desc='cross'):\n",
    "        xi = X1[i:i+1, :]\n",
    "        dij = torch.sum((xi - X2) ** 2, dim=1)\n",
    "        Cov_X1_X2[i, :] = torch.exp(-gamma * dij)\n",
    "\n",
    "    # 将结果从 GPU 移动到 CPU，并转换为 NumPy 数组\n",
    "    return Cov_X1_X2.cpu().numpy()"
   ]
  },
  {
   "cell_type": "code",
   "execution_count": 33,
   "metadata": {},
   "outputs": [
    {
     "name": "stdout",
     "output_type": "stream",
     "text": [
      "float64\n"
     ]
    }
   ],
   "source": [
    "past = caiyang(1000,\"LHS\")\n",
    "new = caiyang(1500,\"LHS\")\n",
    "print(past.dtype)"
   ]
  },
  {
   "cell_type": "code",
   "execution_count": 34,
   "metadata": {},
   "outputs": [],
   "source": [
    "# past = torch.rand(150, 2)\n",
    "# new = torch.rand(500,2)"
   ]
  },
  {
   "cell_type": "code",
   "execution_count": 35,
   "metadata": {},
   "outputs": [
    {
     "name": "stderr",
     "output_type": "stream",
     "text": [
      "cross: 100%|██████████| 1000/1000 [00:05<00:00, 198.90it/s]"
     ]
    },
    {
     "name": "stdout",
     "output_type": "stream",
     "text": [
      "函数运行时间: 5.029283285140991 秒\n"
     ]
    },
    {
     "name": "stderr",
     "output_type": "stream",
     "text": [
      "\n"
     ]
    }
   ],
   "source": [
    "start_time = time.time()\n",
    "\n",
    "a = Cov_cross_matrix(past,new,5)\n",
    "\n",
    "# 记录结束时间\n",
    "end_time = time.time()\n",
    "\n",
    "# 计算运行时间\n",
    "elapsed_time = end_time - start_time\n",
    "print(f\"函数运行时间: {elapsed_time} 秒\")"
   ]
  },
  {
   "cell_type": "code",
   "execution_count": 36,
   "metadata": {},
   "outputs": [
    {
     "name": "stderr",
     "output_type": "stream",
     "text": [
      "cross: 100%|██████████| 1000/1000 [00:00<00:00, 9753.81it/s]"
     ]
    },
    {
     "name": "stdout",
     "output_type": "stream",
     "text": [
      "函数运行时间: 0.11069703102111816 秒\n"
     ]
    },
    {
     "name": "stderr",
     "output_type": "stream",
     "text": [
      "\n"
     ]
    }
   ],
   "source": [
    "start_time = time.time()\n",
    "\n",
    "b = Cov_cross_matrix_gpu(past,new,5)\n",
    "\n",
    "# 记录结束时间\n",
    "end_time = time.time()\n",
    "\n",
    "# 计算运行时间\n",
    "elapsed_time = end_time - start_time\n",
    "print(f\"函数运行时间: {elapsed_time} 秒\")"
   ]
  },
  {
   "cell_type": "code",
   "execution_count": 37,
   "metadata": {},
   "outputs": [
    {
     "name": "stdout",
     "output_type": "stream",
     "text": [
      "[[2.05563322e-02 5.79397006e-01 9.24185686e-02 ... 2.07285906e-01\n",
      "  1.18424585e-02 1.03894819e-01]\n",
      " [3.69473504e-01 7.20267745e-02 4.30955391e-01 ... 9.34960524e-04\n",
      "  2.42645432e-01 3.17382931e-01]\n",
      " [4.24955436e-04 1.12045823e-01 3.95062812e-03 ... 2.51011569e-01\n",
      "  2.44277905e-04 2.82531264e-03]\n",
      " ...\n",
      " [3.17149829e-04 7.08661456e-01 2.49440756e-03 ... 7.76851358e-01\n",
      "  1.21085454e-04 1.16751650e-01]\n",
      " [3.05596161e-06 4.86681389e-02 5.57947547e-05 ... 4.79483282e-01\n",
      "  1.28233572e-06 5.88692695e-04]\n",
      " [1.80681195e-02 9.17844437e-01 7.29534270e-02 ... 2.26163690e-01\n",
      "  9.03287998e-03 3.60733345e-01]]\n",
      "[[2.05563322e-02 5.79397006e-01 9.24185686e-02 ... 2.07285906e-01\n",
      "  1.18424585e-02 1.03894819e-01]\n",
      " [3.69473504e-01 7.20267745e-02 4.30955391e-01 ... 9.34960524e-04\n",
      "  2.42645432e-01 3.17382931e-01]\n",
      " [4.24955436e-04 1.12045823e-01 3.95062812e-03 ... 2.51011569e-01\n",
      "  2.44277905e-04 2.82531264e-03]\n",
      " ...\n",
      " [3.17149829e-04 7.08661456e-01 2.49440756e-03 ... 7.76851358e-01\n",
      "  1.21085454e-04 1.16751650e-01]\n",
      " [3.05596161e-06 4.86681389e-02 5.57947547e-05 ... 4.79483282e-01\n",
      "  1.28233572e-06 5.88692695e-04]\n",
      " [1.80681195e-02 9.17844437e-01 7.29534270e-02 ... 2.26163690e-01\n",
      "  9.03287998e-03 3.60733345e-01]]\n",
      "[[ True  True False ...  True  True  True]\n",
      " [ True  True  True ...  True  True  True]\n",
      " [ True  True  True ...  True  True False]\n",
      " ...\n",
      " [False  True  True ...  True  True  True]\n",
      " [ True  True  True ...  True  True  True]\n",
      " [ True  True False ...  True  True  True]]\n"
     ]
    }
   ],
   "source": [
    "print(a)\n",
    "print(b)\n",
    "print(a==b)"
   ]
  },
  {
   "cell_type": "code",
   "execution_count": 39,
   "metadata": {},
   "outputs": [],
   "source": [
    "def Cov_matrix_gpu(X, gamma):\n",
    "    # 将输入数据转换为 PyTorch 张量，并移动到 GPU 上\n",
    "    X = torch.tensor(X, dtype=torch.float64).cuda()\n",
    "    gamma = torch.tensor(gamma, dtype=torch.float64).cuda()\n",
    "\n",
    "    n = X.shape[0]\n",
    "    Cov_x_x = torch.zeros((n, n), dtype=torch.float64).cuda()\n",
    "\n",
    "    for i in tqdm(range(n), desc=\"ncross\"):\n",
    "        xi = X[i:i+1, :]\n",
    "        dij = torch.sum((xi - X) ** 2, dim=1)\n",
    "        Cov_x_x[i, :] = torch.exp(-gamma * dij)\n",
    "\n",
    "    # 将结果从 GPU 移动到 CPU，并转换为 NumPy 数组\n",
    "    return Cov_x_x.cpu().numpy()\n",
    "\n",
    "def Cov_matrix(X, gamma):\n",
    "    n = X.shape[0]\n",
    "    Cov_x_x = np.zeros(shape=(n,n), dtype=float)\n",
    "    # for i in range(n):\n",
    "    for i in tqdm(range(n), desc=\"ncross\"):\n",
    "        for j in range(n):\n",
    "            xi = X[i:i+1,:]\n",
    "            xj = X[j:j+1,:]\n",
    "            dij = np.sum((xi-xj)**2)\n",
    "            Cov_x_x[i][j] = np.exp(-gamma*dij)\n",
    "    return Cov_x_x"
   ]
  },
  {
   "cell_type": "code",
   "execution_count": 40,
   "metadata": {},
   "outputs": [
    {
     "name": "stderr",
     "output_type": "stream",
     "text": [
      "ncross: 100%|██████████| 1000/1000 [00:03<00:00, 296.02it/s]\n",
      "ncross: 100%|██████████| 1000/1000 [00:00<00:00, 11229.55it/s]\n"
     ]
    }
   ],
   "source": [
    "c = Cov_matrix(past, 5)\n",
    "d = Cov_matrix_gpu(past,5)"
   ]
  },
  {
   "cell_type": "code",
   "execution_count": 41,
   "metadata": {},
   "outputs": [
    {
     "name": "stdout",
     "output_type": "stream",
     "text": [
      "[[1.00000000e+00 6.36710687e-02 3.77001920e-01 ... 3.23943876e-01\n",
      "  7.46175160e-02 7.57383916e-01]\n",
      " [6.36710687e-02 1.00000000e+00 9.65233999e-04 ... 7.67889210e-03\n",
      "  2.99918464e-05 1.29898747e-01]\n",
      " [3.77001920e-01 9.65233999e-04 1.00000000e+00 ... 1.46065519e-01\n",
      "  4.41761560e-01 1.35202720e-01]\n",
      " ...\n",
      " [3.23943876e-01 7.67889210e-03 1.46065519e-01 ... 1.00000000e+00\n",
      "  1.71717430e-01 4.97917937e-01]\n",
      " [7.46175160e-02 2.99918464e-05 4.41761560e-01 ... 1.71717430e-01\n",
      "  1.00000000e+00 3.55788115e-02]\n",
      " [7.57383916e-01 1.29898747e-01 1.35202720e-01 ... 4.97917937e-01\n",
      "  3.55788115e-02 1.00000000e+00]]\n",
      "[[1.00000000e+00 6.36710687e-02 3.77001920e-01 ... 3.23943876e-01\n",
      "  7.46175160e-02 7.57383916e-01]\n",
      " [6.36710687e-02 1.00000000e+00 9.65233999e-04 ... 7.67889210e-03\n",
      "  2.99918464e-05 1.29898747e-01]\n",
      " [3.77001920e-01 9.65233999e-04 1.00000000e+00 ... 1.46065519e-01\n",
      "  4.41761560e-01 1.35202720e-01]\n",
      " ...\n",
      " [3.23943876e-01 7.67889210e-03 1.46065519e-01 ... 1.00000000e+00\n",
      "  1.71717430e-01 4.97917937e-01]\n",
      " [7.46175160e-02 2.99918464e-05 4.41761560e-01 ... 1.71717430e-01\n",
      "  1.00000000e+00 3.55788115e-02]\n",
      " [7.57383916e-01 1.29898747e-01 1.35202720e-01 ... 4.97917937e-01\n",
      "  3.55788115e-02 1.00000000e+00]]\n",
      "[[ True  True  True ...  True  True  True]\n",
      " [ True  True  True ...  True  True  True]\n",
      " [ True  True  True ...  True False  True]\n",
      " ...\n",
      " [ True  True  True ...  True False  True]\n",
      " [ True  True False ... False  True  True]\n",
      " [ True  True  True ...  True  True  True]]\n"
     ]
    }
   ],
   "source": [
    "print(c)\n",
    "print(d)\n",
    "print(c==d)"
   ]
  },
  {
   "cell_type": "code",
   "execution_count": 45,
   "metadata": {},
   "outputs": [],
   "source": [
    "def calculate_inverse(Matrix, xishu=100000000):\n",
    "    rho_orig = Matrix #X（训练点的高斯过程层的常规输出）的协方差矩阵Cov_X_X，将其赋值给rho_orig\n",
    "    rho = rho_orig*xishu # 将X（训练点的高斯过程层的常规输出）的协方差矩阵Cov_X_X（现在是rho_orig）放大xishu倍，得到rho\n",
    "    u, s, v = np.linalg.svd(rho) #对放大后的协方差矩阵rho进行奇异值分解，得到矩阵u，奇异值向量s和矩阵v，具体rho = u * np.diag(s) * v.T\n",
    "    inv_s=np.linalg.inv(np.diag(s)) #计算奇异值向量s对角矩阵的逆矩阵inv_s\n",
    "    t1= np.matmul(v.T, inv_s) #将矩阵v的转置与逆奇异值矩阵inv_s相乘，得到中间结果 t1\n",
    "    t2= np.matmul(t1, u.T) #将中间结果t1与矩阵u的转置相乘，得到中间结果t2\n",
    "    # Check whether the obtained inverse matrix is correct. If it is the identity matrix, it means there is no problem.\n",
    "    t3= np.matmul(t2, rho) #将中间结果t2与矩阵rho相乘，得到结果t3。如果t2是rho的正确逆矩阵，那么t3应该是一个单位矩阵（即对角线元素为1，其余元素为0）\n",
    "    # Inverse of covariance matrix\n",
    "    inv_rho = t2*xishu  #将中间结果t2的每个元素乘以放大常数xishu，得到原始协方差矩阵rho_orig（即X（训练点的高斯过程层的常规输出）的协方差矩阵Cov_X_X）的逆矩阵 inv_rho\n",
    "    return inv_rho\n",
    "\n",
    "def calculate_inverse_gpu(Matrix, xishu=100000000):\n",
    "    # 将输入矩阵转换为 PyTorch 张量，并移动到 GPU 上\n",
    "    Matrix = torch.tensor(Matrix, dtype=torch.float64).cuda()\n",
    "    rho_orig = Matrix  # X（训练点的高斯过程层的常规输出）的协方差矩阵Cov_X_X，将其赋值给rho_orig\n",
    "    rho = rho_orig * xishu  # 将X（训练点的高斯过程层的常规输出）的协方差矩阵Cov_X_X（现在是rho_orig）放大xishu倍，得到rho\n",
    "\n",
    "    # 对放大后的协方差矩阵rho进行奇异值分解\n",
    "    u, s, v = torch.svd(rho)\n",
    "    \n",
    "    # 计算奇异值向量s对角矩阵的逆矩阵inv_s\n",
    "    inv_s = torch.diag(1.0 / s)\n",
    "    \n",
    "    # 将矩阵v的转置与逆奇异值矩阵inv_s相乘，得到中间结果 t1\n",
    "    t1 = torch.matmul(v.t(), inv_s)\n",
    "    \n",
    "    # 将中间结果t1与矩阵u的转置相乘，得到中间结果t2\n",
    "    t2 = torch.matmul(t1, u.t())\n",
    "    \n",
    "    # 检查是否获得了正确的逆矩阵。如果是单位矩阵，则表示没有问题。\n",
    "    t3 = torch.matmul(t2, rho)\n",
    "    \n",
    "    # 原始协方差矩阵rho_orig的逆矩阵 inv_rho\n",
    "    inv_rho = t2 * xishu\n",
    "    \n",
    "    # 将结果从 GPU 移动到 CPU，并转换为 NumPy 数组\n",
    "    return inv_rho.cpu().numpy()"
   ]
  },
  {
   "cell_type": "code",
   "execution_count": 46,
   "metadata": {},
   "outputs": [
    {
     "name": "stdout",
     "output_type": "stream",
     "text": [
      "2.3422133922576904\n",
      "2.9744396209716797\n"
     ]
    }
   ],
   "source": [
    "start_time = time.time()\n",
    "\n",
    "c_1 = calculate_inverse(c)\n",
    "\n",
    "# 记录结束时间\n",
    "end_time = time.time()\n",
    "print(end_time-start_time)\n",
    "start_time = time.time()\n",
    "\n",
    "c_2 = calculate_inverse_gpu(c)\n",
    "\n",
    "# 记录结束时间\n",
    "end_time = time.time()\n",
    "print(end_time-start_time)"
   ]
  },
  {
   "cell_type": "code",
   "execution_count": 47,
   "metadata": {},
   "outputs": [
    {
     "name": "stdout",
     "output_type": "stream",
     "text": [
      "[[-6.80346702e+11 -1.80116552e+11  5.56077679e+10 ... -4.53554732e+10\n",
      "   5.32751792e+08  9.78000837e+10]\n",
      " [ 6.24792807e+10 -1.97138853e+10  5.23904158e+10 ...  1.97618577e+11\n",
      "   9.95377665e+10 -2.64724990e+11]\n",
      " [-2.46034833e+11 -1.40324704e+11  2.87486780e+11 ...  2.19594815e+11\n",
      "   7.01263820e+11 -2.12725249e+11]\n",
      " ...\n",
      " [ 1.03164094e+11 -3.78143134e+10  1.00202286e+12 ...  6.69457826e+11\n",
      "   3.58168008e+12 -2.35765121e+12]\n",
      " [ 1.82847793e+10  6.03407414e+11  2.93193039e+11 ... -4.23995183e+11\n",
      "   4.86824697e+12 -6.37304481e+11]\n",
      " [-4.16615481e+11  1.14243870e+11  5.78412173e+11 ... -2.67431331e+11\n",
      "   9.85673649e+11  5.90242271e+11]]\n",
      "[[-2.10785517e+15 -3.19536534e+15  5.07812142e+15 ... -1.30733428e+15\n",
      "  -3.13296967e+14  2.37065870e+15]\n",
      " [-1.06344784e+15  1.85955339e+14 -6.65107553e+14 ...  1.74223187e+15\n",
      "  -1.51291869e+15 -6.03678751e+14]\n",
      " [-7.45155787e+12  2.92347600e+15 -5.73833476e+15 ...  3.73575042e+15\n",
      "  -1.51554359e+15 -3.34641829e+15]\n",
      " ...\n",
      " [-1.61631898e+15 -2.26675832e+15  3.45515410e+15 ... -1.55993653e+15\n",
      "  -2.03702887e+14  1.64677691e+15]\n",
      " [ 8.44562004e+14  1.97658624e+15 -3.26825584e+15 ...  1.85510708e+15\n",
      "  -3.36561888e+14 -1.56733042e+15]\n",
      " [ 9.66341041e+14  1.08752685e+15 -2.05584584e+15 ...  9.99622177e+14\n",
      "   1.83014054e+14 -1.02248993e+15]]\n",
      "[[False False False ... False False False]\n",
      " [False False False ... False False False]\n",
      " [False False False ... False False False]\n",
      " ...\n",
      " [False False False ... False False False]\n",
      " [False False False ... False False False]\n",
      " [False False False ... False False False]]\n"
     ]
    }
   ],
   "source": [
    "print(c_1)\n",
    "print(c_2)\n",
    "print(c_1==c_2)"
   ]
  },
  {
   "cell_type": "code",
   "execution_count": 48,
   "metadata": {},
   "outputs": [
    {
     "name": "stdout",
     "output_type": "stream",
     "text": [
      "[[-0.09362793  0.05299377  0.06884766 ... -0.0078125   0.04553223\n",
      "   0.00128174]\n",
      " [-0.0064621  -0.06800842  0.01138306 ...  0.00952148  0.037323\n",
      "  -0.00924683]\n",
      " [-0.02462006 -0.00052834 -0.06761169 ... -0.02292633 -0.0186615\n",
      "  -0.01266479]\n",
      " ...\n",
      " [-0.03515625 -0.04862976 -0.04486084 ...  0.15010071 -0.0098877\n",
      "  -0.02667236]\n",
      " [-0.01122475 -0.02974701 -0.02790451 ... -0.02505112  0.17287445\n",
      "  -0.01704025]\n",
      " [-0.0715332  -0.00079346  0.02575684 ... -0.01208496  0.0324707\n",
      "   0.19042969]]\n",
      "[[ 3.12034471e+16  5.61133627e+16 -9.22617794e+16 ...  4.67535571e+16\n",
      "   1.12091311e+15 -4.40965367e+16]\n",
      " [-2.65373931e+15  9.38695005e+15 -2.12309398e+16 ...  2.13917875e+16\n",
      "  -5.36279535e+15 -1.44077395e+16]\n",
      " [ 6.19019154e+15  4.37021388e+15 -4.28529480e+14 ...  1.27240758e+15\n",
      "   2.67423765e+15  2.15101627e+15]\n",
      " ...\n",
      " [ 1.71702797e+16  2.39797688e+16 -4.20955524e+16 ...  1.17170121e+16\n",
      "   4.50803398e+15 -1.59824059e+16]\n",
      " [ 9.22316809e+15  1.44632871e+16 -2.16464949e+16 ...  4.82617289e+15\n",
      "   4.29939891e+15 -8.68088507e+15]\n",
      " [ 2.88115399e+16  5.91003992e+16 -1.03238191e+17 ...  5.21306934e+16\n",
      "  -3.95386787e+15 -5.09470095e+16]]\n"
     ]
    }
   ],
   "source": [
    "print(np.matmul(c,c_1))\n",
    "print(np.matmul(c,c_2))"
   ]
  }
 ],
 "metadata": {
  "kernelspec": {
   "display_name": "pytorchgpu",
   "language": "python",
   "name": "python3"
  },
  "language_info": {
   "codemirror_mode": {
    "name": "ipython",
    "version": 3
   },
   "file_extension": ".py",
   "mimetype": "text/x-python",
   "name": "python",
   "nbconvert_exporter": "python",
   "pygments_lexer": "ipython3",
   "version": "3.10.13"
  }
 },
 "nbformat": 4,
 "nbformat_minor": 2
}
