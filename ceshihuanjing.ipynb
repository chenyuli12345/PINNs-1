{
 "cells": [
  {
   "cell_type": "code",
   "execution_count": 1,
   "metadata": {
    "execution": {
     "iopub.execute_input": "2024-12-29T15:39:56.731771Z",
     "iopub.status.busy": "2024-12-29T15:39:56.731454Z",
     "iopub.status.idle": "2024-12-29T15:39:58.164342Z",
     "shell.execute_reply": "2024-12-29T15:39:58.163893Z"
    }
   },
   "outputs": [
    {
     "name": "stdout",
     "output_type": "stream",
     "text": [
      "Python版本: 3.10.13 (main, Sep 11 2023, 13:44:35) [GCC 11.2.0]\n",
      "PyTorch版本: 2.2.1\n",
      "CUDA可用: True\n",
      "CUDA版本: 12.1\n",
      "cuDNN版本: 8902\n",
      "当前CUDA设备名称: NVIDIA GeForce RTX 4090\n",
      "Number of available GPUs:  2\n",
      "GPU 0: NVIDIA GeForce RTX 4090, Allocated: 0, Reserved: 0\n"
     ]
    },
    {
     "name": "stdout",
     "output_type": "stream",
     "text": [
      "GPU 1: NVIDIA GeForce RTX 4090, Allocated: 0, Reserved: 0\n"
     ]
    }
   ],
   "source": [
    "import torch\n",
    "import sys\n",
    "\n",
    "print(\"Python版本:\", sys.version)\n",
    "print(\"PyTorch版本:\", torch.__version__)\n",
    "print(\"CUDA可用:\", torch.cuda.is_available())\n",
    "\n",
    "if torch.cuda.is_available():\n",
    "    print(\"CUDA版本:\", torch.version.cuda)\n",
    "    print(\"cuDNN版本:\", torch.backends.cudnn.version())\n",
    "\n",
    "    # 显示当前CUDA设备信息\n",
    "    cuda_device = torch.device('cuda')\n",
    "    print(\"当前CUDA设备名称:\", torch.cuda.get_device_name(cuda_device))\n",
    "else:\n",
    "    print(\"CUDA不可用，无法显示CUDA和cuDNN版本。\")\n",
    "num_gpus = torch.cuda.device_count()\n",
    "print('Number of available GPUs: ', num_gpus)\n",
    "\n",
    "for i in range(num_gpus):\n",
    "    torch.cuda.set_device(i)\n",
    "    allocated = torch.cuda.memory_allocated()\n",
    "    reserved = torch.cuda.memory_reserved()\n",
    "    print('GPU {}: {}, Allocated: {}, Reserved: {}'.format(i, torch.cuda.get_device_name(i), allocated, reserved))"
   ]
  }
 ],
 "metadata": {
  "kernelspec": {
   "display_name": "pytorchgpu",
   "language": "python",
   "name": "python3"
  },
  "language_info": {
   "codemirror_mode": {
    "name": "ipython",
    "version": 3
   },
   "file_extension": ".py",
   "mimetype": "text/x-python",
   "name": "python",
   "nbconvert_exporter": "python",
   "pygments_lexer": "ipython3",
   "version": "3.10.13"
  }
 },
 "nbformat": 4,
 "nbformat_minor": 2
}
